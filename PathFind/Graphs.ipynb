{
 "cells": [
  {
   "cell_type": "code",
   "execution_count": 50,
   "metadata": {
    "collapsed": true
   },
   "outputs": [],
   "source": [
    "#Graphs are represented by dictionaries\n",
    "\n",
    "G={'a':['b','c'],'b':['c','d'],'c':['d','f'],'d':['c'],'e':['f'],'f':['c']}"
   ]
  },
  {
   "cell_type": "code",
   "execution_count": 77,
   "metadata": {
    "collapsed": false
   },
   "outputs": [],
   "source": [
    "def findPath(graph,startNode,endNode,path=[]):\n",
    "    path=path+[startNode]\n",
    "    if startNode==endNode:\n",
    "        return [path]\n",
    "    if not startNode in graph:\n",
    "        return []\n",
    "    paths = []\n",
    "    for node in graph[startNode]:\n",
    "        \n",
    "        if node not in path:\n",
    "            newpaths=findPath(graph,node,endNode,path)\n",
    "            for newpath in newpaths:\n",
    "                    paths.append(newpath)\n",
    "    return paths\n",
    "        \n",
    "        "
   ]
  },
  {
   "cell_type": "code",
   "execution_count": 78,
   "metadata": {
    "collapsed": false
   },
   "outputs": [
    {
     "name": "stdout",
     "output_type": "stream",
     "text": [
      "[['a', 'b', 'c', 'f'], ['a', 'b', 'd', 'c', 'f'], ['a', 'c', 'f']]\n"
     ]
    }
   ],
   "source": [
    "a=findPath(G,'a','f')\n",
    "print(a)"
   ]
  }
 ],
 "metadata": {
  "kernelspec": {
   "display_name": "Python 3",
   "language": "python",
   "name": "python3"
  },
  "language_info": {
   "codemirror_mode": {
    "name": "ipython",
    "version": 3
   },
   "file_extension": ".py",
   "mimetype": "text/x-python",
   "name": "python",
   "nbconvert_exporter": "python",
   "pygments_lexer": "ipython3",
   "version": "3.6.0"
  }
 },
 "nbformat": 4,
 "nbformat_minor": 2
}
